{
 "cells": [
  {
   "cell_type": "code",
   "execution_count": null,
   "id": "210f0200",
   "metadata": {},
   "outputs": [],
   "source": [
    "import sys\n",
    "import os\n",
    "import pandas as pd, numpy as np, seaborn as sns\n",
    "import matplotlib.pyplot as plt\n",
    "import math\n",
    "from scipy import stats\n",
    "from scipy.stats import poisson\n",
    "from sklearn.preprocessing import LabelEncoder\n",
    "import pylab\n",
    "from scipy.stats import norm"
   ]
  },
  {
   "cell_type": "code",
   "execution_count": null,
   "id": "914eef5f",
   "metadata": {},
   "outputs": [],
   "source": [
    "biosamples = 733\n",
    "num_components = 16\n",
    "num_dhs = 3591898\n",
    "calls = pd.read_csv('../../ranking_metrics/results/calls',sep='\\t',header=None)\n",
    "vocab = pd.read_csv('../../dhs_data/DHS_Index_and_Vocabulary_hg38_WM20190703.txt',sep='\\t')\n",
    "regions = pd.read_csv('../data/new_maxMean.bed',sep='\\t',header=None)\n",
    "clr_scheme = {'Placental / trophoblast': '#FFE500', 'Lymphoid': '#FE8102', 'Myeloid / erythroid': '#FF0000',\n",
    "              'Cardiac': '#07AF00','Musculoskeletal': '#4C7D14', 'Vascular / endothelial': '#414613',\n",
    "              'Primitive / embryonic': '#05C1D9', 'Neural': '#0467FD', 'Digestive': '#009588',\n",
    "              'Stromal A': '#BB2DD4', 'Stromal B': '#7A00FF', 'Renal / cancer': '#4A6876', \n",
    "              'Cancer / epithelial': '#08245B', 'Pulmonary devel.': '#B9461D','Organ devel. / renal': '#692108',\n",
    "              'Tissue invariant': '#C3C3C3'}\n",
    "chrs=[1,2,3,4,5,6,7,8,9,10,11,12,13,14,15,16,17,18,19,20,21,22,'X','Y']\n",
    "snr=pd.read_csv('../../ranking_metrics/results/sorted_zscored_peak_snr',sep='\\t')\n",
    "mcs=pd.read_csv('../../ranking_metrics/results/sorted_zscored_mean_cosine_similarity',sep='\\t')\n",
    "metric = pd.read_csv('../../ranking_metrics/results/coranked_metrics3',sep='\\t')"
   ]
  },
  {
   "cell_type": "code",
   "execution_count": null,
   "id": "0d56d1ba",
   "metadata": {},
   "outputs": [],
   "source": [
    "def gather_all_anno(ch,snr,mcs):\n",
    "    ch='chr'+str(ch)\n",
    "    chr_coranks=pd.read_csv('../results/corrected_coranking/'+ch,sep='\\t')\n",
    "    unbiased_metric_contribution=pd.DataFrame(columns=['mean_snr_ranks','mean_mcs_ranks'])\n",
    "    for window in chr_coranks.index:\n",
    "        dhs_indices_in_window=np.where((vocab.seqname==ch) & (vocab.start >= chr_coranks.iloc[window,1]) & (vocab.start <= chr_coranks.iloc[window,2]) )[0]\n",
    "        unbiased_metric_contribution.loc[window,'mean_mcs_ranks']=np.nanmean(mcs.index[mcs.dhs_index.isin(dhs_indices_in_window)])\n",
    "        unbiased_metric_contribution.loc[window,'mean_snr_ranks']=np.nanmean(snr.index[snr.dhs_index.isin(dhs_indices_in_window)])\n",
    "    all_annotations=pd.concat([chr_coranks,unbiased_metric_contribution],axis=1)\n",
    "    all_annotations.to_csv('../results/corrected_all_anno/'+ch,sep='\\t',index=False)"
   ]
  },
  {
   "cell_type": "code",
   "execution_count": null,
   "id": "8a706f63",
   "metadata": {},
   "outputs": [],
   "source": [
    "for i in chrs:\n",
    "    gather_all_anno(i,snr,mcs)"
   ]
  },
  {
   "cell_type": "code",
   "execution_count": null,
   "id": "6c02ddbb",
   "metadata": {},
   "outputs": [],
   "source": [
    "all_chr_enrich=pd.DataFrame()\n",
    "for i in chrs:\n",
    "    ch='chr'+str(i)\n",
    "    a=pd.read_csv('../results/component_enrichment_new_maxMean/'+ch+'_comp_enrich_coranks3_new_maxMean',sep='\\t')\n",
    "    all_chr_enrich=pd.concat([all_chr_enrich,a],axis=0)\n",
    "all_chr_enrich=all_chr_enrich.drop(\"Unnamed: 19\",axis=1).reset_index(drop=True)\n",
    "all_chr_enrich"
   ]
  },
  {
   "cell_type": "code",
   "execution_count": null,
   "id": "f06db6f5",
   "metadata": {},
   "outputs": [],
   "source": [
    "def corank_ch(m):\n",
    "    ch = 'chr'+str(m)\n",
    "    chr_ce=pd.read_csv('../results/corrected_ce_new_maxMean/'+ch+'_ce',sep='\\t')\n",
    "    chr_info = pd.read_csv('../results/summary_stats_new_maxMean/'+ch+'_stats_coranks3_new_maxMean',sep='\\t')\n",
    "    chr_ce=chr_ce.drop('Unnamed: 19',axis=1)\n",
    "    sorted_ce=chr_ce.iloc[chr_ce.iloc[:,3:].max(axis=1).sort_values(ascending=False).index,:].reset_index()\n",
    "    z = (chr_info.mean_coranked_metrics3-population_mean)/(population_std_dev/np.sqrt(chr_info.no_of_dhs))\n",
    "    pvals_chr=pd.DataFrame(columns=['pvalue'])\n",
    "    for j in range(len(z)):\n",
    "        if z[j]>0:\n",
    "            pvals_chr.loc[j,'pvalue'] = 1-norm.cdf(z[j])\n",
    "        else:\n",
    "            pvals_chr.loc[j,'pvalue'] = norm.cdf(z[j])\n",
    "\n",
    "    #pvals_chr=pd.DataFrame(data=norm.sf(abs(chr_info.mean_coranked_metrics3-population_mean)/(population_std_dev/np.sqrt(chr_info.no_of_dhs)))*2,columns=['pvalue'])\n",
    "    pvals_chr=pvals_chr.sort_values(by='pvalue')\n",
    "    sorted_quality=pd.concat([chr_info.iloc[pvals_chr.index,:],pvals_chr],axis=1)\n",
    "    sorted_quality=sorted_quality.reset_index()\n",
    "    chr_corank_quality_density_component_distribution = chr_info[['seqname','start','end','no_of_dhs']].copy()\n",
    "    for i in chr_info.index:\n",
    "        rank1 = np.where(sorted_quality.iloc[:,0]==i)[0][0]\n",
    "        rank2 = np.where(sorted_ce.iloc[:,0]==i)[0][0]\n",
    "        chr_corank_quality_density_component_distribution.loc[i,'mean_corank']=(rank1+rank2)/2\n",
    "        chr_corank_quality_density_component_distribution.loc[i,'clt_pvalue']=pvals_chr.loc[i,'pvalue']\n",
    "        chr_corank_quality_density_component_distribution.loc[i,'max_enrich']=max(chr_ce.iloc[i,3:])\n",
    "        if rank1 >= rank2:\n",
    "            chr_corank_quality_density_component_distribution.loc[i,'max_metric']='clt_pvalue'\n",
    "        else:\n",
    "            chr_corank_quality_density_component_distribution.loc[i,'max_metric']='component_enrichment'\n",
    "    chr_corank_quality_density_component_distribution.sort_values(by='mean_corank').reset_index(drop=True).to_csv('../results/corrected_coranking/'+ch,sep='\\t',index=False)\n",
    "    #chr_corank_quality_density_component_distribution.sort_values(by='mean_corank').reset_index()"
   ]
  },
  {
   "cell_type": "code",
   "execution_count": null,
   "id": "1f99dfff",
   "metadata": {},
   "outputs": [],
   "source": [
    "for i in chrs:\n",
    "    corank_ch(i)"
   ]
  },
  {
   "cell_type": "markdown",
   "id": "f640d472",
   "metadata": {},
   "source": [
    "## Global Co-ranking"
   ]
  },
  {
   "cell_type": "code",
   "execution_count": null,
   "id": "9fb9377c",
   "metadata": {},
   "outputs": [],
   "source": [
    "all_chr=pd.DataFrame()\n",
    "for i in chrs:\n",
    "    ch='chr'+str(i)\n",
    "    a=pd.read_csv('../results/corrected_all_anno/'+ch,sep='\\t')\n",
    "    all_chr=pd.concat([all_chr,a],axis=0)\n",
    "all_chr=all_chr.reset_index(drop=True)\n",
    "sorted_clt=all_chr.sort_values(by='clt_pvalue').reset_index()\n",
    "sorted_enrich=all_chr.sort_values(by='max_enrich',ascending=False).reset_index()\n",
    "for i in all_chr.index:\n",
    "    rank1=np.where(sorted_clt.iloc[:,0]==i)[0][0]\n",
    "    rank2=np.where(sorted_enrich.iloc[:,0]==i)[0][0]\n",
    "    all_chr.loc[i,'global_mean_coranks']=(rank1+rank2)/2\n",
    "    all_chr.loc[i,'global_CLT_rank'] = rank1\n",
    "    all_chr.loc[i,'global_enrichment_rank'] = rank2"
   ]
  },
  {
   "cell_type": "code",
   "execution_count": null,
   "id": "6c4818ba",
   "metadata": {},
   "outputs": [],
   "source": [
    "def winner_component():\n",
    "    #all_chr_enrich=pd.DataFrame()\n",
    "    for i in chrs:\n",
    "        ch='chr'+str(i)\n",
    "        a=pd.read_csv('../results/component_enrichment_new_maxMean/'+ch+'_comp_enrich_coranks3_new_maxMean',sep='\\t')\n",
    "        #all_chr_enrich=pd.concat([all_chr_enrich,a],axis=0)\n",
    "        #all_chr_enrich=all_chr_enrich.drop(\"Unnamed: 19\",axis=1).reset_index(drop=True)\n",
    "        a=a.drop(\"Unnamed: 19\",axis=1)\n",
    "        for j in a.index:\n",
    "            print(a.columns[np.where(a.iloc[j,3:] == np.max(a.iloc[j,3:]))[0][0]+3])\n"
   ]
  },
  {
   "cell_type": "code",
   "execution_count": null,
   "id": "fd5e9a16",
   "metadata": {},
   "outputs": [],
   "source": [
    "all_chr_enrich=pd.DataFrame()\n",
    "for i in chrs:\n",
    "    ch='chr'+str(i)\n",
    "    a=pd.read_csv('../results/corrected_ce_new_maxMean/'+ch+'_ce',sep='\\t')\n",
    "    all_chr_enrich=pd.concat([all_chr_enrich,a],axis=0)\n",
    "all_chr_enrich=all_chr_enrich.drop(\"Unnamed: 19\",axis=1).reset_index(drop=True)\n",
    "winner_comp=pd.read_csv('../results/win_comp_all',sep='\\t')\n",
    "x=pd.concat([all_chr_enrich.iloc[:,0:3],winner_comp],axis=1)\n",
    "all_chr=all_chr.merge(x,left_on=['seqname','start','end'],right_on=['seqname','start','end'])\n",
    "all_chr=all_chr.sort_values('global_mean_coranks').reset_index(drop=True)\n",
    "all_chr.to_csv('../results/corrected_global_coranking',sep='\\t',index=False)"
   ]
  }
 ],
 "metadata": {
  "kernelspec": {
   "display_name": "Python 3 (ipykernel)",
   "language": "python",
   "name": "python3"
  },
  "language_info": {
   "codemirror_mode": {
    "name": "ipython",
    "version": 3
   },
   "file_extension": ".py",
   "mimetype": "text/x-python",
   "name": "python",
   "nbconvert_exporter": "python",
   "pygments_lexer": "ipython3",
   "version": "3.8.12"
  }
 },
 "nbformat": 4,
 "nbformat_minor": 5
}
